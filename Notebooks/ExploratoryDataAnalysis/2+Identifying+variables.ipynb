{
 "cells": [
  {
   "cell_type": "markdown",
   "metadata": {},
   "source": [
    "# 2 Identifying variables"
   ]
  },
  {
   "cell_type": "code",
   "execution_count": 41,
   "metadata": {
    "collapsed": true
   },
   "outputs": [],
   "source": [
    "import pandas as pd\n",
    "df = pd.read_csv('train.csv')"
   ]
  },
  {
   "cell_type": "markdown",
   "metadata": {},
   "source": [
    "### Showing the types and values"
   ]
  },
  {
   "cell_type": "code",
   "execution_count": null,
   "metadata": {},
   "outputs": [],
   "source": [
    "df.info()"
   ]
  },
  {
   "cell_type": "markdown",
   "metadata": {},
   "source": [
    "You can also check how many missing values there are in a column using **isnull()** and **sum()**"
   ]
  },
  {
   "cell_type": "code",
   "execution_count": null,
   "metadata": {},
   "outputs": [],
   "source": [
    "df.Fence.isnull().sum()"
   ]
  },
  {
   "cell_type": "markdown",
   "metadata": {},
   "source": [
    "## Describe the range of each feature"
   ]
  },
  {
   "cell_type": "code",
   "execution_count": null,
   "metadata": {},
   "outputs": [],
   "source": [
    "df.LotFrontage.max()"
   ]
  },
  {
   "cell_type": "code",
   "execution_count": null,
   "metadata": {},
   "outputs": [],
   "source": [
    "df.LotFrontage.min()"
   ]
  },
  {
   "cell_type": "code",
   "execution_count": null,
   "metadata": {},
   "outputs": [],
   "source": [
    "df.LotFrontage.describe()"
   ]
  },
  {
   "cell_type": "markdown",
   "metadata": {},
   "source": [
    "### Unique values of a column\n",
    "For categorical features, you can inspect which values occur in a column, using `unique`"
   ]
  },
  {
   "cell_type": "code",
   "execution_count": null,
   "metadata": {},
   "outputs": [],
   "source": [
    "df.MSZoning.unique()"
   ]
  },
  {
   "cell_type": "code",
   "execution_count": null,
   "metadata": {},
   "outputs": [],
   "source": [
    "df.PavedDrive.unique()"
   ]
  },
  {
   "cell_type": "markdown",
   "metadata": {},
   "source": [
    "We can also show the frequency of every value for a column."
   ]
  },
  {
   "cell_type": "code",
   "execution_count": null,
   "metadata": {},
   "outputs": [],
   "source": [
    "df.PavedDrive.value_counts()"
   ]
  },
  {
   "cell_type": "markdown",
   "metadata": {},
   "source": [
    "### Convert values\n",
    "Often, it is easier to process your data as numbers. For instance, the feature PavedDrive has a categorical label, bit of we want to use it in a regression algorithm we need to convert it to a number. In this case we convert it in the following way: N=0, P=1, Y=2 (assuming P means something like Partial)."
   ]
  },
  {
   "cell_type": "code",
   "execution_count": null,
   "metadata": {},
   "outputs": [],
   "source": [
    "paved_drive = {'N':0, 'P':1, 'Y':2} # setup a dictionary to do the conversion\n",
    "\n",
    "def convert_paved_drive(p):\n",
    "    return paved_drive[p] # return the value of p in paved_drive dict\n",
    "\n",
    "convert_paved_drive('P') # returns 1 because P is at position 1 in the array (indexing starts at 0)"
   ]
  },
  {
   "cell_type": "markdown",
   "metadata": {},
   "source": [
    "We can use Python's **map()** function to apply a function to every element in a collection (or more formally, an iterable). Note that we could alternatively pass the dictionary paved_drive to the map() function, since map() also accepts dictionaries."
   ]
  },
  {
   "cell_type": "code",
   "execution_count": null,
   "metadata": {
    "collapsed": true
   },
   "outputs": [],
   "source": [
    "df['PavedDriveN'] = df.PavedDrive.map(convert_paved_drive)"
   ]
  },
  {
   "cell_type": "code",
   "execution_count": null,
   "metadata": {},
   "outputs": [],
   "source": [
    "df.PavedDriveN[df.PavedDriveN < 2][:10]"
   ]
  },
  {
   "cell_type": "markdown",
   "metadata": {},
   "source": [
    "#### Assignment:  convert KitchenQual to a number. In the description of the dataset it reads that the labels mean:\n",
    "\n",
    "|Label|description|\n",
    "|:---|---|\n",
    "|Ex|Excellent|\n",
    "|Gd|Good|\n",
    "|TA|Typical/Average|\n",
    "|Fa|Fair|\n",
    "|Po|Poor|"
   ]
  },
  {
   "cell_type": "code",
   "execution_count": 42,
   "metadata": {},
   "outputs": [
    {
     "data": {
      "text/plain": [
       "0       3\n",
       "1       2\n",
       "2       3\n",
       "3       3\n",
       "4       3\n",
       "5       2\n",
       "6       3\n",
       "7       2\n",
       "8       2\n",
       "9       2\n",
       "10      2\n",
       "11      4\n",
       "12      2\n",
       "13      3\n",
       "14      2\n",
       "15      2\n",
       "16      2\n",
       "17      2\n",
       "18      3\n",
       "19      2\n",
       "20      3\n",
       "21      3\n",
       "22      3\n",
       "23      2\n",
       "24      3\n",
       "25      3\n",
       "26      3\n",
       "27      3\n",
       "28      2\n",
       "29      1\n",
       "       ..\n",
       "1430    2\n",
       "1431    2\n",
       "1432    2\n",
       "1433    2\n",
       "1434    2\n",
       "1435    3\n",
       "1436    2\n",
       "1437    4\n",
       "1438    2\n",
       "1439    2\n",
       "1440    2\n",
       "1441    3\n",
       "1442    4\n",
       "1443    1\n",
       "1444    3\n",
       "1445    2\n",
       "1446    2\n",
       "1447    3\n",
       "1448    2\n",
       "1449    4\n",
       "1450    2\n",
       "1451    4\n",
       "1452    2\n",
       "1453    2\n",
       "1454    3\n",
       "1455    2\n",
       "1456    2\n",
       "1457    3\n",
       "1458    3\n",
       "1459    2\n",
       "Name: KitchenQualN, Length: 1460, dtype: int64"
      ]
     },
     "execution_count": 42,
     "metadata": {},
     "output_type": "execute_result"
    }
   ],
   "source": [
    "KitchenQual={'Ex':4 ,'Gd':3 ,'TA':2 ,'Fa':1,'Po':0}\n",
    "\n",
    "def convert_kitchenQual(p):\n",
    "    return KitchenQual[p] \n",
    "\n",
    "df['KitchenQualN'] = df.KitchenQual.map(convert_kitchenQual)\n",
    "\n",
    "df['KitchenQualN']"
   ]
  },
  {
   "cell_type": "markdown",
   "metadata": {},
   "source": [
    "### Add features\n",
    "\n",
    "We can add new features to the Dataframe by simply assigning a value to it. In this example we will compute the sum of the 1st floor space and 2nd floor space."
   ]
  },
  {
   "cell_type": "code",
   "execution_count": null,
   "metadata": {},
   "outputs": [],
   "source": [
    "# note you need to index these with [''] because in Python variable names cannot start with a number.\n",
    "df['2FlrSF'] = df['1stFlrSF'] + df['2ndFlrSF']\n",
    "df['2FlrSF'][:10]"
   ]
  },
  {
   "cell_type": "code",
   "execution_count": null,
   "metadata": {},
   "outputs": [],
   "source": [
    "# alternatively, give a list of columns.\n",
    "df[['1stFlrSF', '2ndFlrSF', '2FlrSF']]"
   ]
  },
  {
   "cell_type": "markdown",
   "metadata": {},
   "source": [
    "### Code book\n",
    "\n",
    "Write a code book. A book in which you list some collections specifics, such as the number of samples, and for every variable a description, datatype, numeric/categorical, #missing values, the value range, an example of a value. After the analysis, you can include the distribution over each variable, how the data was cleaned (missing values and outliers) and transformed. Include every operation done on the data to allow exact replication of these steps."
   ]
  },
  {
   "cell_type": "markdown",
   "metadata": {},
   "source": [
    "| variable | description | datatype | numeric/categorical | #missing | range | example value |\n",
    "|--|--|--|--|--:|:-:|--|\n",
    "| 1stFlrSF | First Floor square feet | int | Numeric | 0 | 334-4602 | 334 |\n",
    "| 2FlrSF | Sum First Floor + Second Floor Square Feet | int | Numeric | 0 | 334-5642 | 5642 |\n",
    "| PavedDriveN | State of driveway | int | numeric | 0 | 0-2 (gravel/dirt, partially paved, paved)| 2 |\n",
    "| PavedDrive | State of driveway | text | Categorical | 0 | N, P, Y (gravel/dirt, partially paved, paved) | N |\n",
    "| BsmtQual | Height of the basement | text | Categorical | 37 | Ex, Gd, TA, Fa, Po, NA (Excellent 100+\", Good 90-99\", Typical 80-89\", Fair 70-79\", Poor <70\", No Basement | Ex |\n",
    "| KitchenQual | Quality of Kitchen | int | Numeric | 0 | Ex, Gd, TA, Fa, Po, NA (Excellent 4\", Good 3\", Typical/Average 2\", Fair 1\", Poor 0\" | Ex |"
   ]
  },
  {
   "cell_type": "markdown",
   "metadata": {},
   "source": [
    "#### Assignment: Add KitchenQual to the Code Book"
   ]
  }
 ],
 "metadata": {
  "kernelspec": {
   "display_name": "Python 3",
   "language": "python",
   "name": "python3"
  },
  "language_info": {
   "codemirror_mode": {
    "name": "ipython",
    "version": 3
   },
   "file_extension": ".py",
   "mimetype": "text/x-python",
   "name": "python",
   "nbconvert_exporter": "python",
   "pygments_lexer": "ipython3",
   "version": "3.6.1"
  }
 },
 "nbformat": 4,
 "nbformat_minor": 2
}
